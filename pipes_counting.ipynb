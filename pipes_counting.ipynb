{
  "nbformat": 4,
  "nbformat_minor": 0,
  "metadata": {
    "colab": {
      "provenance": [],
      "authorship_tag": "ABX9TyNNuHNGW4qTTdNHMn69KJ/2",
      "include_colab_link": true
    },
    "kernelspec": {
      "name": "python3",
      "display_name": "Python 3"
    },
    "language_info": {
      "name": "python"
    }
  },
  "cells": [
    {
      "cell_type": "markdown",
      "metadata": {
        "id": "view-in-github",
        "colab_type": "text"
      },
      "source": [
        "<a href=\"https://colab.research.google.com/github/vijayprabhavathamma1234/Hr-Data-Analysis-Realtime-Project-/blob/main/pipes_counting.ipynb\" target=\"_parent\"><img src=\"https://colab.research.google.com/assets/colab-badge.svg\" alt=\"Open In Colab\"/></a>"
      ]
    },
    {
      "cell_type": "code",
      "execution_count": 70,
      "metadata": {
        "colab": {
          "base_uri": "https://localhost:8080/"
        },
        "id": "-iff-OYgyBMz",
        "outputId": "609f87d1-bad4-4520-83da-9f1bcb650cbe"
      },
      "outputs": [
        {
          "output_type": "stream",
          "name": "stdout",
          "text": [
            "1140\n"
          ]
        }
      ],
      "source": [
        "import sys\n",
        "import cv2\n",
        "import numpy as np\n",
        "\n",
        "# Load image\n",
        "# im = cv2.imread(sys.path[0]+'/im.jpeg')\n",
        "im = cv2.imread('/content/Pipes _1.png')\n",
        "\n",
        "H,W = im.shape[:2]\n",
        "\n",
        "# Make a copy from image\n",
        "out = im.copy()\n",
        "\n",
        "# Make a grayscale version\n",
        "gry = cv2.cvtColor(im, cv2.COLOR_BGR2GRAY)\n",
        "\n",
        "# Make a clean black and white version of that picture\n",
        "bw = cv2.adaptiveThreshold(\n",
        "    gry, 255, cv2.ADAPTIVE_THRESH_GAUSSIAN_C, cv2.THRESH_BINARY, 5, 12)\n",
        "bw = cv2.medianBlur(bw, 3)\n",
        "bw = cv2.erode(bw, np.ones((5, 5)))\n",
        "bw = cv2.medianBlur(bw, 9)\n",
        "bw = cv2.dilate(bw, np.ones((5, 5)))\n",
        "\n",
        "# Draw a rectangle around image to eliminate errors\n",
        "cv2.rectangle(bw, (0, 0), (W, H), 0, thickness=170)\n",
        "\n",
        "# Count number of pipes\n",
        "cnts, _ = cv2.findContours(bw, cv2.RETR_TREE, cv2.CHAIN_APPROX_NONE)\n",
        "\n",
        "# Change channels of black/white image\n",
        "bw = cv2.cvtColor(bw, cv2.COLOR_GRAY2BGR)\n",
        "\n",
        "# Draw position of pipes\n",
        "c = 0\n",
        "for cnt in cnts:\n",
        "    c += 1\n",
        "    x, y, w, h = cv2.boundingRect(cnt)\n",
        "    cv2.circle(out, (x+w//2, y+h//2), max(w, h)//2, (c, 220, 255-c), 2)\n",
        "    if c >= 255:\n",
        "        c = 0\n",
        "\n",
        "# Count and print number of pipes\n",
        "print(len(cnts))\n"
      ]
    },
    {
      "cell_type": "code",
      "source": [
        "# actual-1120"
      ],
      "metadata": {
        "id": "Gk_hoXzWyaHh"
      },
      "execution_count": null,
      "outputs": []
    },
    {
      "cell_type": "code",
      "source": [
        "import cv2\n",
        "import numpy as np\n",
        "import matplotlib.pyplot as plt\n",
        "  \n",
        "image = cv2.imread('/content/Pipes_4.png')\n",
        "gray = cv2.cvtColor(image, cv2.COLOR_BGR2GRAY)\n",
        "  \n",
        "blur = cv2.GaussianBlur(gray, (9, 9), 0)\n",
        "canny = cv2.Canny(blur, 30, 150, 3)\n",
        "dilated = cv2.dilate(canny, (1, 1), iterations=0)\n",
        "  \n",
        "(cnt, hierarchy) = cv2.findContours(\n",
        "    dilated.copy(), cv2.RETR_EXTERNAL, cv2.CHAIN_APPROX_NONE)\n",
        "rgb = cv2.cvtColor(image, cv2.COLOR_BGR2RGB)\n",
        "cv2.drawContours(rgb, cnt, -1, (0, 255, 0), 2)\n",
        "  \n",
        "  \n",
        "print(\"pipes in the image : \", len(cnt))\n",
        "# actual-1310"
      ],
      "metadata": {
        "colab": {
          "base_uri": "https://localhost:8080/"
        },
        "id": "-bJ6S8oE7sA2",
        "outputId": "1d68701e-7959-4966-8cd1-4131d57f3d37"
      },
      "execution_count": 76,
      "outputs": [
        {
          "output_type": "stream",
          "name": "stdout",
          "text": [
            "pipes in the image :  1331\n"
          ]
        }
      ]
    },
    {
      "cell_type": "code",
      "source": [],
      "metadata": {
        "id": "CSd0CnYqFFnO"
      },
      "execution_count": null,
      "outputs": []
    },
    {
      "cell_type": "code",
      "source": [
        "circles = cv2.HoughCircles(gray, cv2.HOUGH_GRADIENT, 1.2, 100)\n",
        "# ensure at least some circles were found\n",
        "if circles is not None:\n",
        "\t# convert the (x, y) coordinates and radius of the circles to integers\n",
        "\tcircles = np.round(circles[0, :]).astype(\"int\")\n",
        "\t# loop over the (x, y) coordinates and radius of the circles\n",
        "\tfor (x, y, r) in circles:\n",
        "\t\t# draw the circle in the output image, then draw a rectangle\n",
        "\t\t# corresponding to the center of the circle\n",
        "\t\tcv2.circle(output, (x, y), r, (0, 255, 0), 4)\n",
        "\t\tcv2.rectangle(output, (x - 5, y - 5), (x + 5, y + 5), (0, 128, 255), -1)\n",
        "\t# show the output image\n",
        "\tcv2.imshow(\"output\", np.hstack([image, output]))\n",
        "\tcv2.waitKey(0)"
      ],
      "metadata": {
        "id": "2oTrCsioFeLA"
      },
      "execution_count": null,
      "outputs": []
    },
    {
      "cell_type": "code",
      "source": [
        " from google.colab.patches import cv2_imshow"
      ],
      "metadata": {
        "id": "nQhGp4Px7sNV"
      },
      "execution_count": 52,
      "outputs": []
    },
    {
      "cell_type": "code",
      "source": [
        "import cv2\n",
        "\n",
        "raw_image = cv2.imread('/content/Pipes _1.png')\n",
        "cv2.imshow('Original Image', raw_image)\n",
        "cv2.waitKey(0)\n",
        "\n",
        "bilateral_filtered_image = cv2.bilateralFilter(raw_image, 5, 175, 175)\n",
        "cv2.imshow('Bilateral', bilateral_filtered_image)\n",
        "cv2.waitKey(0)\n",
        "\n",
        "edge_detected_image = cv2.Canny(bilateral_filtered_image, 75, 200)\n",
        "cv2.imshow('Edge', edge_detected_image)\n",
        "cv2.waitKey(0)\n",
        "\n",
        "_, contours, hierarchy = cv2.findContours(edge_detected_image, cv2.RETR_TREE, cv2.CHAIN_APPROX_SIMPLE)\n",
        "\n",
        "contour_list = []\n",
        "for contour in contours:\n",
        "    approx = cv2.approxPolyDP(contour,0.01*cv2.arcLength(contour,True),True)\n",
        "    area = cv2.contourArea(contour)\n",
        "    if ((len(approx) > 8) & (len(approx) < 23) & (area > 30) ):\n",
        "        contour_list.append(contour)\n",
        "\n",
        "cv2.drawContours(raw_image, contour_list,  -1, (255,0,0), 2)\n",
        "cv2.imshow('Objects Detected',raw_image)\n",
        "cv2.waitKey(0)"
      ],
      "metadata": {
        "colab": {
          "base_uri": "https://localhost:8080/",
          "height": 409
        },
        "id": "NqFN_Phr7sQw",
        "outputId": "fddbba86-296d-445d-da24-a3061ab89757"
      },
      "execution_count": 53,
      "outputs": [
        {
          "output_type": "error",
          "ename": "DisabledFunctionError",
          "evalue": "ignored",
          "traceback": [
            "\u001b[0;31m---------------------------------------------------------------------------\u001b[0m",
            "\u001b[0;31mDisabledFunctionError\u001b[0m                     Traceback (most recent call last)",
            "\u001b[0;32m<ipython-input-53-736c2c80ea1a>\u001b[0m in \u001b[0;36m<module>\u001b[0;34m\u001b[0m\n\u001b[1;32m      2\u001b[0m \u001b[0;34m\u001b[0m\u001b[0m\n\u001b[1;32m      3\u001b[0m \u001b[0mraw_image\u001b[0m \u001b[0;34m=\u001b[0m \u001b[0mcv2\u001b[0m\u001b[0;34m.\u001b[0m\u001b[0mimread\u001b[0m\u001b[0;34m(\u001b[0m\u001b[0;34m'/content/Pipes _1.png'\u001b[0m\u001b[0;34m)\u001b[0m\u001b[0;34m\u001b[0m\u001b[0;34m\u001b[0m\u001b[0m\n\u001b[0;32m----> 4\u001b[0;31m \u001b[0mcv2\u001b[0m\u001b[0;34m.\u001b[0m\u001b[0mimshow\u001b[0m\u001b[0;34m(\u001b[0m\u001b[0;34m'Original Image'\u001b[0m\u001b[0;34m,\u001b[0m \u001b[0mraw_image\u001b[0m\u001b[0;34m)\u001b[0m\u001b[0;34m\u001b[0m\u001b[0;34m\u001b[0m\u001b[0m\n\u001b[0m\u001b[1;32m      5\u001b[0m \u001b[0mcv2\u001b[0m\u001b[0;34m.\u001b[0m\u001b[0mwaitKey\u001b[0m\u001b[0;34m(\u001b[0m\u001b[0;36m0\u001b[0m\u001b[0;34m)\u001b[0m\u001b[0;34m\u001b[0m\u001b[0;34m\u001b[0m\u001b[0m\n\u001b[1;32m      6\u001b[0m \u001b[0;34m\u001b[0m\u001b[0m\n",
            "\u001b[0;32m/usr/local/lib/python3.8/dist-packages/google/colab/_import_hooks/_cv2.py\u001b[0m in \u001b[0;36mwrapped\u001b[0;34m(*args, **kwargs)\u001b[0m\n\u001b[1;32m     46\u001b[0m   \u001b[0;32mdef\u001b[0m \u001b[0mwrapped\u001b[0m\u001b[0;34m(\u001b[0m\u001b[0;34m*\u001b[0m\u001b[0margs\u001b[0m\u001b[0;34m,\u001b[0m \u001b[0;34m**\u001b[0m\u001b[0mkwargs\u001b[0m\u001b[0;34m)\u001b[0m\u001b[0;34m:\u001b[0m\u001b[0;34m\u001b[0m\u001b[0;34m\u001b[0m\u001b[0m\n\u001b[1;32m     47\u001b[0m     \u001b[0;32mif\u001b[0m \u001b[0;32mnot\u001b[0m \u001b[0mos\u001b[0m\u001b[0;34m.\u001b[0m\u001b[0menviron\u001b[0m\u001b[0;34m.\u001b[0m\u001b[0mget\u001b[0m\u001b[0;34m(\u001b[0m\u001b[0menv_var\u001b[0m\u001b[0;34m,\u001b[0m \u001b[0;32mFalse\u001b[0m\u001b[0;34m)\u001b[0m\u001b[0;34m:\u001b[0m\u001b[0;34m\u001b[0m\u001b[0;34m\u001b[0m\u001b[0m\n\u001b[0;32m---> 48\u001b[0;31m       \u001b[0;32mraise\u001b[0m \u001b[0mDisabledFunctionError\u001b[0m\u001b[0;34m(\u001b[0m\u001b[0mmessage\u001b[0m\u001b[0;34m,\u001b[0m \u001b[0mname\u001b[0m \u001b[0;32mor\u001b[0m \u001b[0mfunc\u001b[0m\u001b[0;34m.\u001b[0m\u001b[0m__name__\u001b[0m\u001b[0;34m)\u001b[0m\u001b[0;34m\u001b[0m\u001b[0;34m\u001b[0m\u001b[0m\n\u001b[0m\u001b[1;32m     49\u001b[0m     \u001b[0;32mreturn\u001b[0m \u001b[0mfunc\u001b[0m\u001b[0;34m(\u001b[0m\u001b[0;34m*\u001b[0m\u001b[0margs\u001b[0m\u001b[0;34m,\u001b[0m \u001b[0;34m**\u001b[0m\u001b[0mkwargs\u001b[0m\u001b[0;34m)\u001b[0m\u001b[0;34m\u001b[0m\u001b[0;34m\u001b[0m\u001b[0m\n\u001b[1;32m     50\u001b[0m \u001b[0;34m\u001b[0m\u001b[0m\n",
            "\u001b[0;31mDisabledFunctionError\u001b[0m: cv2.imshow() is disabled in Colab, because it causes Jupyter sessions\nto crash; see https://github.com/jupyter/notebook/issues/3935.\nAs a substitution, consider using\n  from google.colab.patches import cv2_imshow\n"
          ],
          "errorDetails": {
            "actions": [
              {
                "action": "open_snippet",
                "actionText": "Search Snippets for cv2.imshow",
                "snippetFilter": "cv2.imshow"
              }
            ]
          }
        }
      ]
    },
    {
      "cell_type": "code",
      "source": [],
      "metadata": {
        "id": "U_bo7ykXAHZV"
      },
      "execution_count": null,
      "outputs": []
    }
  ]
}